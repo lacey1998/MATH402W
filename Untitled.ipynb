{
 "cells": [
  {
   "cell_type": "code",
   "execution_count": 1,
   "id": "3ad835be",
   "metadata": {},
   "outputs": [],
   "source": [
    "import numpy as np\n",
    "import pandas as pd\n",
    "import difflib\n",
    "import re"
   ]
  },
  {
   "cell_type": "code",
   "execution_count": 31,
   "id": "e8e0e2bc",
   "metadata": {},
   "outputs": [],
   "source": [
    "save_on_data=pd.read_excel(\"SOF catchment-time slot list.xlsx\")\n",
    "data = pd.read_csv(\"ODA_BC_v1.csv\")\n",
    "data.dropna(subset=['postal_code'],inplace=True)"
   ]
  },
  {
   "cell_type": "code",
   "execution_count": 32,
   "id": "5c6836df",
   "metadata": {},
   "outputs": [],
   "source": [
    "l = ['V3K','V3E'] \n",
    "found = data[data['postal_code'].str.startswith(tuple(l))]\n",
    "found['postal_code'].reset_index\n",
    "found.to_csv('output1.csv', index=False)"
   ]
  },
  {
   "cell_type": "code",
   "execution_count": 23,
   "id": "3ed45d1e",
   "metadata": {},
   "outputs": [],
   "source": [
    "data.to_csv('output.csv', index=False)"
   ]
  },
  {
   "cell_type": "code",
   "execution_count": null,
   "id": "a613ae11",
   "metadata": {},
   "outputs": [],
   "source": []
  },
  {
   "cell_type": "code",
   "execution_count": null,
   "id": "0a1c1ce7",
   "metadata": {},
   "outputs": [],
   "source": [
    "       "
   ]
  },
  {
   "cell_type": "code",
   "execution_count": null,
   "id": "82dd2635",
   "metadata": {},
   "outputs": [],
   "source": []
  }
 ],
 "metadata": {
  "kernelspec": {
   "display_name": "Python 3 (ipykernel)",
   "language": "python",
   "name": "python3"
  },
  "language_info": {
   "codemirror_mode": {
    "name": "ipython",
    "version": 3
   },
   "file_extension": ".py",
   "mimetype": "text/x-python",
   "name": "python",
   "nbconvert_exporter": "python",
   "pygments_lexer": "ipython3",
   "version": "3.9.7"
  }
 },
 "nbformat": 4,
 "nbformat_minor": 5
}
